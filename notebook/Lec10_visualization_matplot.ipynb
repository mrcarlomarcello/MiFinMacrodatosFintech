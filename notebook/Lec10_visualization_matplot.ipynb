{
 "cells": [
  {
   "cell_type": "markdown",
   "metadata": {},
   "source": [
    "# Create a Simple plot"
   ]
  },
  {
   "cell_type": "code",
   "execution_count": null,
   "metadata": {},
   "outputs": [],
   "source": [
    "import numpy as np\n",
    "import matplotlib.pyplot as plt\n",
    "from matplotlib import style"
   ]
  },
  {
   "cell_type": "code",
   "execution_count": null,
   "metadata": {},
   "outputs": [],
   "source": [
    "%matplotlib inline"
   ]
  },
  {
   "cell_type": "code",
   "execution_count": null,
   "metadata": {},
   "outputs": [],
   "source": [
    "randon_number = np.random.rand(10)"
   ]
  },
  {
   "cell_type": "code",
   "execution_count": null,
   "metadata": {},
   "outputs": [],
   "source": [
    "randon_number"
   ]
  },
  {
   "cell_type": "code",
   "execution_count": null,
   "metadata": {},
   "outputs": [],
   "source": [
    "plt.plot(randon_number,'g',label='line_one',linewidth=2)"
   ]
  },
  {
   "cell_type": "code",
   "execution_count": null,
   "metadata": {},
   "outputs": [],
   "source": [
    "# lets set the style now \n",
    "\n",
    "style.use('ggplot')\n",
    "\n",
    "plt.plot(randon_number,'g',label='line_one',linewidth=2)\n",
    "\n",
    "plt.xlabel('Range')\n",
    "plt.ylabel('Numbers')\n",
    "plt.title('First Plot')\n",
    "plt.legend()"
   ]
  },
  {
   "cell_type": "markdown",
   "metadata": {},
   "source": [
    "# Line Properties "
   ]
  },
  {
   "cell_type": "code",
   "execution_count": null,
   "metadata": {},
   "outputs": [],
   "source": [
    "import matplotlib.pyplot as plt\n",
    "\n",
    "from matplotlib import style\n",
    "\n",
    "%matplotlib inline"
   ]
  },
  {
   "cell_type": "code",
   "execution_count": null,
   "metadata": {},
   "outputs": [],
   "source": [
    "customers = [123,645,950,1290,1630,1450,1034,1295,465,205,80]\n",
    "\n",
    "time_hrs = [7,8,9,10,11,12,13,14,15,16,17]"
   ]
  },
  {
   "cell_type": "code",
   "execution_count": null,
   "metadata": {},
   "outputs": [],
   "source": [
    "style.use('ggplot')"
   ]
  },
  {
   "cell_type": "code",
   "execution_count": null,
   "metadata": {},
   "outputs": [],
   "source": [
    "plt.plot(time_hrs,customers)\n",
    "plt.title('Web site traffic')\n",
    "plt.xlabel('Hrs')\n",
    "plt.ylabel('Number of users')\n",
    "plt.show()"
   ]
  },
  {
   "cell_type": "markdown",
   "metadata": {},
   "source": [
    "## Controling line properties\n",
    "\n",
    "https://matplotlib.org/3.1.1/api/_as_gen/matplotlib.pyplot.plot.html "
   ]
  },
  {
   "cell_type": "code",
   "execution_count": null,
   "metadata": {},
   "outputs": [],
   "source": [
    "plt.plot(time_hrs,customers,color = 'b',linestyle='--',linewidth=2.5,alpha =1.0)\n",
    "plt.title('Web site traffic')\n",
    "plt.xlabel('Hrs')\n",
    "plt.ylabel('Number of users')"
   ]
  },
  {
   "cell_type": "markdown",
   "metadata": {},
   "source": [
    "## Alpha & Annotation\n",
    "\n",
    "https://matplotlib.org/3.1.1/api/_as_gen/matplotlib.pyplot.annotate.html\n",
    "\n",
    "https://matplotlib.org/3.1.1/tutorials/text/annotations.html#plotting-guide-annotation"
   ]
  },
  {
   "cell_type": "code",
   "execution_count": null,
   "metadata": {},
   "outputs": [],
   "source": [
    "plt.plot(time_hrs,customers,color = 'b',linestyle='--',linewidth=2.5,alpha = 0.9)\n",
    "plt.title('Web site traffic')\n",
    "plt.xlabel('Hrs')\n",
    "plt.ylabel('Number of users')\n",
    "plt.annotate('Max',ha='left',va='top',xy=(11,1630),xytext=(8,1500),arrowprops={'facecolor':'red'})"
   ]
  },
  {
   "cell_type": "markdown",
   "metadata": {},
   "source": [
    "- [ ] 45 sec : Experiment with different properties of annotate "
   ]
  },
  {
   "cell_type": "markdown",
   "metadata": {},
   "source": [
    "# Multiple Plots"
   ]
  },
  {
   "cell_type": "code",
   "execution_count": null,
   "metadata": {},
   "outputs": [],
   "source": [
    "monday_traffic = np.random.randint(1500,size=15)"
   ]
  },
  {
   "cell_type": "code",
   "execution_count": null,
   "metadata": {},
   "outputs": [],
   "source": [
    "tuesday_traffic = np.random.randint(1500,size=15)"
   ]
  },
  {
   "cell_type": "code",
   "execution_count": null,
   "metadata": {},
   "outputs": [],
   "source": [
    "wednesday_traffic = np.random.randint(1500,size=15)"
   ]
  },
  {
   "cell_type": "code",
   "execution_count": null,
   "metadata": {},
   "outputs": [],
   "source": [
    "time_hrs = list(range(1,16,1))"
   ]
  },
  {
   "cell_type": "code",
   "execution_count": null,
   "metadata": {},
   "outputs": [],
   "source": [
    "time_hrs"
   ]
  },
  {
   "cell_type": "code",
   "execution_count": null,
   "metadata": {},
   "outputs": [],
   "source": [
    "style.use('ggplot')\n",
    "\n",
    "plt.plot(time_hrs,monday_traffic,c = 'r',label = 'Monday', linewidth = 1)\n",
    "\n",
    "plt.plot(time_hrs,tuesday_traffic,c = 'g',label = 'Tuesday', linewidth = 1.5)\n",
    "\n",
    "plt.plot(time_hrs,wednesday_traffic,c = 'b',label = 'Wednesday', linewidth = 2)\n",
    "\n",
    "plt.title('Web site traffic')\n",
    "\n",
    "plt.xlabel('Hours')\n",
    "\n",
    "plt.ylabel('No of users')\n",
    "\n",
    "plt.axis([3,14,50,1200])\n",
    "\n",
    "plt.legend()\n",
    "\n"
   ]
  },
  {
   "cell_type": "markdown",
   "metadata": {},
   "source": [
    "# Subplots\n",
    "\n",
    "https://matplotlib.org/3.1.1/api/_as_gen/matplotlib.pyplot.subplots_adjust.html#matplotlib.pyplot.subplots_adjust "
   ]
  },
  {
   "cell_type": "markdown",
   "metadata": {},
   "source": [
    "# Histogram"
   ]
  },
  {
   "cell_type": "code",
   "execution_count": null,
   "metadata": {},
   "outputs": [],
   "source": [
    "# Lets plot the histogram of a random variable\n",
    "\n",
    "from scipy.stats import norm\n",
    "\n",
    "fig = plt.figure(1)\n",
    "\n",
    "data_normal =  norm.rvs(size=10000,loc=0,scale=1)\n",
    "plt.subplot(2,2,1)\n",
    "plt.hist(data_normal, 100, density=True, facecolor='g', alpha=0.75)\n",
    "plt.title('SciPy Normal Distribution')\n",
    "plt.xlabel('Value')\n",
    "plt.ylabel('PDF')\n",
    "\n",
    "\n",
    "plt.subplot(2,2,2)\n",
    "plt.hist(data_normal, 100, density=False, facecolor='g', alpha=0.75)\n",
    "plt.title('SciPy Normal Distribution')\n",
    "plt.xlabel('Value')\n",
    "plt.ylabel('Count')\n",
    "\n",
    "\n",
    "rand_var = np.random.rand(10000)\n",
    "plt.subplot(2,2,3)\n",
    "n,bins,p = plt.hist(x=rand_var, bins=100, density=True, facecolor='r', alpha=0.75)\n",
    "plt.title('Numpy Random Distribution')\n",
    "plt.xlabel('Value')\n",
    "plt.ylabel('PDF')\n",
    "\n",
    "rand_var = np.random.rand(10000)\n",
    "plt.subplot(2,2,4)\n",
    "n,bins,p = plt.hist(x=rand_var, bins=100, density=False, facecolor='r', alpha=0.75)\n",
    "plt.title('Numpy Random Distribution')\n",
    "plt.xlabel('Value')\n",
    "plt.ylabel('Count')\n",
    "\n",
    "\n",
    "\n",
    "plt.subplots_adjust(hspace=0.5,wspace=0.3)\n",
    "\n",
    "fig.set_figheight(10)\n",
    "fig.set_figwidth(30)\n"
   ]
  },
  {
   "cell_type": "markdown",
   "metadata": {},
   "source": [
    "- [ ] **60 sec : adjust wspace and hspace and observe the changes**"
   ]
  },
  {
   "cell_type": "markdown",
   "metadata": {},
   "source": [
    "# Heatmap"
   ]
  },
  {
   "cell_type": "code",
   "execution_count": null,
   "metadata": {},
   "outputs": [],
   "source": [
    "import matplotlib.pyplot as plt\n",
    "\n",
    "import seaborn as sns\n",
    "\n",
    "%matplotlib inline"
   ]
  },
  {
   "cell_type": "code",
   "execution_count": null,
   "metadata": {},
   "outputs": [],
   "source": [
    "flight_data = sns.load_dataset('flights')"
   ]
  },
  {
   "cell_type": "code",
   "execution_count": null,
   "metadata": {},
   "outputs": [],
   "source": [
    "type(flight_data)"
   ]
  },
  {
   "cell_type": "code",
   "execution_count": null,
   "metadata": {},
   "outputs": [],
   "source": [
    "flight_data"
   ]
  },
  {
   "cell_type": "code",
   "execution_count": null,
   "metadata": {},
   "outputs": [],
   "source": [
    "flight_data.describe()"
   ]
  },
  {
   "cell_type": "code",
   "execution_count": null,
   "metadata": {},
   "outputs": [],
   "source": [
    "flight_data = flight_data.pivot(index='month', columns = 'year', values='passengers')"
   ]
  },
  {
   "cell_type": "code",
   "execution_count": null,
   "metadata": {},
   "outputs": [],
   "source": [
    "flight_data.head()"
   ]
  },
  {
   "cell_type": "code",
   "execution_count": null,
   "metadata": {},
   "outputs": [],
   "source": [
    "flight_data"
   ]
  },
  {
   "cell_type": "code",
   "execution_count": null,
   "metadata": {},
   "outputs": [],
   "source": [
    "sns.heatmap(flight_data)"
   ]
  },
  {
   "cell_type": "markdown",
   "metadata": {},
   "source": [
    "# Pie Charts"
   ]
  },
  {
   "cell_type": "code",
   "execution_count": null,
   "metadata": {},
   "outputs": [],
   "source": [
    "import matplotlib.pyplot as plt\n",
    "%matplotlib inline"
   ]
  },
  {
   "cell_type": "code",
   "execution_count": null,
   "metadata": {},
   "outputs": [],
   "source": [
    "job_data = [40,20,30,10]\n",
    "\n",
    "labels = ['IT','admin','HR','Marketing']\n",
    "\n",
    "explode = (0.05,0.1,0,0)\n",
    "\n",
    "plt.pie(job_data,labels=labels,explode=explode)\n",
    "plt.title('Pie Chart')"
   ]
  },
  {
   "cell_type": "markdown",
   "metadata": {},
   "source": [
    "- [ ]**30 sec: change the value of explode and see what happens**"
   ]
  },
  {
   "cell_type": "markdown",
   "metadata": {},
   "source": [
    "# Errorbar\n",
    "\n",
    "https://matplotlib.org/3.1.1/api/_as_gen/matplotlib.pyplot.errorbar.html"
   ]
  },
  {
   "cell_type": "code",
   "execution_count": null,
   "metadata": {},
   "outputs": [],
   "source": [
    "x = np.array([1,2,3,4,5])\n",
    "y = x * 2 \n",
    "yerr = y-x\n",
    "plt.errorbar(x, y,yerr, marker='s', mfc='red',\n",
    "         mec='green')\n",
    "plt.title(\"Error Bar\")\n",
    "plt.xlabel('x')\n",
    "plt.ylabel('2*x')"
   ]
  },
  {
   "cell_type": "code",
   "execution_count": null,
   "metadata": {},
   "outputs": [],
   "source": []
  }
 ],
 "metadata": {
  "kernelspec": {
   "display_name": "Python 3",
   "language": "python",
   "name": "python3"
  },
  "language_info": {
   "codemirror_mode": {
    "name": "ipython",
    "version": 3
   },
   "file_extension": ".py",
   "mimetype": "text/x-python",
   "name": "python",
   "nbconvert_exporter": "python",
   "pygments_lexer": "ipython3",
   "version": "3.7.3"
  }
 },
 "nbformat": 4,
 "nbformat_minor": 2
}
