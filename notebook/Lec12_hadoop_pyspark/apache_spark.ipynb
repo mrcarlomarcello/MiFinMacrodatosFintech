{
 "cells": [
  {
   "cell_type": "markdown",
   "metadata": {},
   "source": [
    "# PySpark"
   ]
  },
  {
   "cell_type": "code",
   "execution_count": 1,
   "metadata": {},
   "outputs": [
    {
     "data": {
      "text/html": [
       "\n",
       "        <div>\n",
       "            <p><b>SparkContext</b></p>\n",
       "\n",
       "            <p><a href=\"http://192.168.0.10:4040\">Spark UI</a></p>\n",
       "\n",
       "            <dl>\n",
       "              <dt>Version</dt>\n",
       "                <dd><code>v3.0.0-preview</code></dd>\n",
       "              <dt>Master</dt>\n",
       "                <dd><code>local[*]</code></dd>\n",
       "              <dt>AppName</dt>\n",
       "                <dd><code>PySparkShell</code></dd>\n",
       "            </dl>\n",
       "        </div>\n",
       "        "
      ],
      "text/plain": [
       "<SparkContext master=local[*] appName=PySparkShell>"
      ]
     },
     "execution_count": 1,
     "metadata": {},
     "output_type": "execute_result"
    }
   ],
   "source": [
    "# check for the context..\n",
    "# before this make sure you start pyspark in the background. \n",
    "sc"
   ]
  },
  {
   "cell_type": "markdown",
   "metadata": {},
   "source": [
    "## Read Data set\n",
    "\n",
    "https://archive.ics.uci.edu/ml/datasets/Sentiment+Labelled+Sentences"
   ]
  },
  {
   "cell_type": "code",
   "execution_count": 2,
   "metadata": {},
   "outputs": [],
   "source": [
    "# Create an RDD with text file method\n",
    "\n",
    "text_data_file = sc.textFile('datasets\\yelp_labelled.txt')"
   ]
  },
  {
   "cell_type": "code",
   "execution_count": 9,
   "metadata": {},
   "outputs": [
    {
     "data": {
      "text/plain": [
       "pyspark.rdd.RDD"
      ]
     },
     "execution_count": 9,
     "metadata": {},
     "output_type": "execute_result"
    }
   ],
   "source": [
    "type(text_data_file_file)"
   ]
  },
  {
   "cell_type": "code",
   "execution_count": 3,
   "metadata": {},
   "outputs": [],
   "source": [
    "from operator import add"
   ]
  },
  {
   "cell_type": "code",
   "execution_count": 4,
   "metadata": {},
   "outputs": [],
   "source": [
    "wordCountFilter = text_data_file.filter(lambda x:len(x)>0)"
   ]
  },
  {
   "cell_type": "code",
   "execution_count": 5,
   "metadata": {},
   "outputs": [
    {
     "data": {
      "text/plain": [
       "1000"
      ]
     },
     "execution_count": 5,
     "metadata": {},
     "output_type": "execute_result"
    }
   ],
   "source": [
    "#verify the word count\n",
    "\n",
    "wordCountFilter.count()"
   ]
  },
  {
   "cell_type": "code",
   "execution_count": 10,
   "metadata": {},
   "outputs": [
    {
     "data": {
      "text/plain": [
       "pyspark.rdd.PipelinedRDD"
      ]
     },
     "execution_count": 10,
     "metadata": {},
     "output_type": "execute_result"
    }
   ],
   "source": [
    "type(wordCountFilter)"
   ]
  },
  {
   "cell_type": "code",
   "execution_count": 11,
   "metadata": {},
   "outputs": [],
   "source": [
    "word_flat_map = wordCountFilter.flatMap(lambda x:x.split())"
   ]
  },
  {
   "cell_type": "code",
   "execution_count": 12,
   "metadata": {},
   "outputs": [],
   "source": [
    "wordMapper = word_flat_map.map(lambda x:(x,1))"
   ]
  },
  {
   "cell_type": "code",
   "execution_count": 13,
   "metadata": {},
   "outputs": [],
   "source": [
    "# use the reduce by key function to reduce above mapped keys\n",
    "# return the key value paris by adding values for similar keys\n",
    "\n",
    "word_count = wordMapper.reduceByKey(add)"
   ]
  },
  {
   "cell_type": "code",
   "execution_count": 14,
   "metadata": {},
   "outputs": [
    {
     "data": {
      "text/plain": [
       "('Loved', 2)"
      ]
     },
     "execution_count": 14,
     "metadata": {},
     "output_type": "execute_result"
    }
   ],
   "source": [
    "# view the first element\n",
    "\n",
    "word_count.first()"
   ]
  },
  {
   "cell_type": "code",
   "execution_count": 15,
   "metadata": {},
   "outputs": [
    {
     "data": {
      "text/plain": [
       "[('Loved', 2),\n",
       " ('this', 95),\n",
       " ('place.', 20),\n",
       " ('1', 503),\n",
       " ('is', 171),\n",
       " ('good.', 22),\n",
       " ('0', 500),\n",
       " ('Not', 11),\n",
       " ('tasty', 6),\n",
       " ('was', 292),\n",
       " ('just', 30),\n",
       " ('Stopped', 2),\n",
       " ('during', 5),\n",
       " ('late', 1),\n",
       " ('May', 1),\n",
       " ('bank', 1),\n",
       " ('holiday', 1),\n",
       " ('Rick', 1),\n",
       " ('loved', 6),\n",
       " ('it.', 16),\n",
       " ('The', 177),\n",
       " ('Now', 4),\n",
       " ('am', 6),\n",
       " ('getting', 7),\n",
       " ('damn', 3),\n",
       " ('pho.', 1),\n",
       " (\"didn't\", 13),\n",
       " ('THAT', 1),\n",
       " ('like', 45),\n",
       " ('tell', 6),\n",
       " ('of', 123),\n",
       " ('kept', 5),\n",
       " ('warmer.', 1),\n",
       " ('fries', 8),\n",
       " ('too.', 4),\n",
       " ('very', 60),\n",
       " ('prompt.', 1),\n",
       " ('go', 37),\n",
       " ('cashier', 2),\n",
       " ('no', 19),\n",
       " ('ever', 21),\n",
       " ('say', 12),\n",
       " ('ended', 2),\n",
       " ('wayyy', 1),\n",
       " ('tried', 6),\n",
       " ('Cod', 1),\n",
       " ('chicken,with', 1),\n",
       " ('pretty', 16),\n",
       " ('sure', 7),\n",
       " ('human', 2)]"
      ]
     },
     "execution_count": 15,
     "metadata": {},
     "output_type": "execute_result"
    }
   ],
   "source": [
    "word_count.take(50)"
   ]
  },
  {
   "cell_type": "code",
   "execution_count": null,
   "metadata": {},
   "outputs": [],
   "source": []
  }
 ],
 "metadata": {
  "kernelspec": {
   "display_name": "Python 3",
   "language": "python",
   "name": "python3"
  },
  "language_info": {
   "codemirror_mode": {
    "name": "ipython",
    "version": 3
   },
   "file_extension": ".py",
   "mimetype": "text/x-python",
   "name": "python",
   "nbconvert_exporter": "python",
   "pygments_lexer": "ipython3",
   "version": "3.6.4"
  }
 },
 "nbformat": 4,
 "nbformat_minor": 2
}
